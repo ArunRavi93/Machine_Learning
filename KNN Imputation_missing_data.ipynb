{
 "cells": [
  {
   "cell_type": "markdown",
   "id": "433cf503",
   "metadata": {},
   "source": [
    "# KNN Imputation\n",
    "\n",
    "KNNimputer is a scikit-learn class used to fill out or predict the missing values in a dataset. It is a more useful method which works on the basic approach of the KNN algorithm rather than the naive approach of filling all the values with mean or the median. In this approach, we specify a distance from the missing values which is also known as the K parameter. The missing value will be predicted in reference to the mean of the neighbours.\n",
    "\n",
    "\n",
    "> Datasets may have missing values, and this can cause problems for many machine learning algorithms.\n",
    "\n",
    "> As such, it is good practice to identify and replace missing values for each column in your input data prior to modeling your prediction task. This is called missing data imputation, or imputing for short.\n",
    "\n",
    "> A popular approach to missing data imputation is to use a model to predict the missing values. This requires a model to be created for each input variable that has missing values. Although any one among a range of different models can be used to predict the missing values, the k-nearest neighbor (KNN) algorithm has proven to be generally effective, often referred to as “nearest neighbor imputation.”"
   ]
  },
  {
   "cell_type": "code",
   "execution_count": 1,
   "id": "2e01783a",
   "metadata": {},
   "outputs": [],
   "source": [
    "import numpy as np\n",
    "import pandas as pd\n",
    "  \n",
    "# import the KNNimputer class\n",
    "from sklearn.impute import KNNImputer"
   ]
  },
  {
   "cell_type": "code",
   "execution_count": 2,
   "id": "ef621187",
   "metadata": {},
   "outputs": [],
   "source": [
    "# create dataset for marks of a student\n",
    "dict = {'Maths':[80, 90, np.nan, 95], \n",
    "        'Chemistry': [60, 65, 56, np.nan], \n",
    "        'Physics':[np.nan, 57, 80, 78],\n",
    "       'Biology' : [78,83,67,np.nan]}\n",
    " "
   ]
  },
  {
   "cell_type": "code",
   "execution_count": 3,
   "id": "392713e3",
   "metadata": {},
   "outputs": [
    {
     "data": {
      "text/plain": [
       "{'Maths': [80, 90, nan, 95],\n",
       " 'Chemistry': [60, 65, 56, nan],\n",
       " 'Physics': [nan, 57, 80, 78],\n",
       " 'Biology': [78, 83, 67, nan]}"
      ]
     },
     "execution_count": 3,
     "metadata": {},
     "output_type": "execute_result"
    }
   ],
   "source": [
    "dict"
   ]
  },
  {
   "cell_type": "code",
   "execution_count": 4,
   "id": "d4ac100c",
   "metadata": {},
   "outputs": [
    {
     "name": "stdout",
     "output_type": "stream",
     "text": [
      "Data Before performing imputation\n",
      "    Maths  Chemistry  Physics  Biology\n",
      "0   80.0       60.0      NaN     78.0\n",
      "1   90.0       65.0     57.0     83.0\n",
      "2    NaN       56.0     80.0     67.0\n",
      "3   95.0        NaN     78.0      NaN\n"
     ]
    }
   ],
   "source": [
    " \n",
    "# creating a data frame from the list \n",
    "Before_imputation = pd.DataFrame(dict)\n",
    "#print dataset before imputaion\n",
    "print(\"Data Before performing imputation\\n\",Before_imputation)\n",
    "  "
   ]
  },
  {
   "cell_type": "code",
   "execution_count": 5,
   "id": "9609d7f5",
   "metadata": {},
   "outputs": [],
   "source": [
    "# create an object for KNNImputer\n",
    "imputer = KNNImputer(n_neighbors=2)\n",
    "After_imputation = imputer.fit_transform(Before_imputation)\n"
   ]
  },
  {
   "cell_type": "code",
   "execution_count": 6,
   "id": "4dd7ae52",
   "metadata": {},
   "outputs": [
    {
     "name": "stdout",
     "output_type": "stream",
     "text": [
      "\n",
      "\n",
      "After performing imputation\n",
      " [[80.  60.  68.5 78. ]\n",
      " [90.  65.  57.  83. ]\n",
      " [87.5 56.  80.  67. ]\n",
      " [95.  58.  78.  72.5]]\n"
     ]
    }
   ],
   "source": [
    "# print dataset after performing the operation\n",
    "print(\"\\n\\nAfter performing imputation\\n\",After_imputation)"
   ]
  },
  {
   "cell_type": "markdown",
   "id": "e35365c2",
   "metadata": {},
   "source": [
    "# Happy Learning"
   ]
  },
  {
   "cell_type": "code",
   "execution_count": null,
   "id": "187f2b97",
   "metadata": {},
   "outputs": [],
   "source": []
  }
 ],
 "metadata": {
  "kernelspec": {
   "display_name": "Python 3 (ipykernel)",
   "language": "python",
   "name": "python3"
  },
  "language_info": {
   "codemirror_mode": {
    "name": "ipython",
    "version": 3
   },
   "file_extension": ".py",
   "mimetype": "text/x-python",
   "name": "python",
   "nbconvert_exporter": "python",
   "pygments_lexer": "ipython3",
   "version": "3.9.7"
  }
 },
 "nbformat": 4,
 "nbformat_minor": 5
}
